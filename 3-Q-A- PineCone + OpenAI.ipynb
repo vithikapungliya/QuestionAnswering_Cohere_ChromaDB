{
 "cells": [
  {
   "cell_type": "code",
   "execution_count": 4,
   "id": "dbe1f850",
   "metadata": {
    "height": 132
   },
   "outputs": [],
   "source": [
    "import openai\n",
    "import os\n",
    "\n",
    "from dotenv import load_dotenv, find_dotenv\n",
    "_ = load_dotenv(find_dotenv())\n",
    "\n",
    "openai.api_key  = os.getenv('OPENAI_API_KEY')\n",
    "#Insert the OpenAI Key"
   ]
  },
  {
   "attachments": {},
   "cell_type": "markdown",
   "id": "aec8b34c",
   "metadata": {},
   "source": [
    "Install the required dependancies and restart the kernel"
   ]
  },
  {
   "cell_type": "code",
   "execution_count": null,
   "id": "64e8a737",
   "metadata": {
    "height": 30
   },
   "outputs": [],
   "source": [
    "#pip install pinecone-client openai tiktoken\n",
    "#pip install langchain"
   ]
  },
  {
   "attachments": {},
   "cell_type": "markdown",
   "id": "d57773cd",
   "metadata": {},
   "source": [
    "Generate the Pinecone API and Environment "
   ]
  },
  {
   "cell_type": "code",
   "execution_count": 1,
   "id": "02b74115",
   "metadata": {
    "height": 64
   },
   "outputs": [],
   "source": [
    "PINECONE_API_KEY = \"f573316b-8e0f-491b-ab59-3e0af522d111\"\n",
    "PINECONE_ENV = \"us-west4-gcp\""
   ]
  },
  {
   "attachments": {},
   "cell_type": "markdown",
   "id": "09053df1",
   "metadata": {},
   "source": [
    "Import the necessary libraries"
   ]
  },
  {
   "cell_type": "code",
   "execution_count": 5,
   "id": "f1c8b67e",
   "metadata": {
    "height": 81
   },
   "outputs": [],
   "source": [
    "import pinecone \n",
    "from langchain.embeddings.openai import OpenAIEmbeddings\n",
    "from langchain.text_splitter import CharacterTextSplitter\n",
    "from langchain.vectorstores import Pinecone\n",
    "from langchain.document_loaders import TextLoader"
   ]
  },
  {
   "cell_type": "code",
   "execution_count": 6,
   "id": "71aea21e",
   "metadata": {
    "height": 132
   },
   "outputs": [],
   "source": [
    "\n",
    "loader = TextLoader('state_of_the_union.txt') #Loading the Text\n",
    "documents = loader.load()\n",
    "text_splitter = CharacterTextSplitter(chunk_size=1000, chunk_overlap=0) #Splitting the text and creating chunks\n",
    "docs = text_splitter.split_documents(documents)\n",
    "\n",
    "embeddings = OpenAIEmbeddings() #Creating the OpenAI Embeddings"
   ]
  },
  {
   "cell_type": "code",
   "execution_count": 8,
   "id": "2c8d1a83",
   "metadata": {
    "height": 319
   },
   "outputs": [],
   "source": [
    "# initialize pinecone\n",
    "pinecone.init(\n",
    "    api_key=PINECONE_API_KEY, \n",
    "    environment=PINECONE_ENV  \n",
    ")\n",
    "\n",
    "index_name = \"langchain-demo\"\n",
    "pinecone.create_index(index_name, dimension=1536,\n",
    "                          metric=\"cosine\", pods=1, pod_type=\"p1.x1\")\n",
    "#Dimensions are 1536 for OPENAI embeddings, uses Cosine Similarity metric \n",
    "docsearch = Pinecone.from_documents(docs, embeddings, index_name=index_name)\n",
    "\n",
    "# if you already have an index, you can load it like this\n",
    "#docsearch = Pinecone.from_existing_index(index_name, embeddings)\n"
   ]
  },
  {
   "cell_type": "code",
   "execution_count": null,
   "id": "75a51851",
   "metadata": {},
   "outputs": [],
   "source": [
    "\n",
    "query = \"What did the president say about Ketanji Brown Jackson\"\n",
    "docs = docsearch.similarity_search(query)"
   ]
  },
  {
   "cell_type": "code",
   "execution_count": 9,
   "id": "74ba34ce",
   "metadata": {
    "height": 30
   },
   "outputs": [
    {
     "name": "stdout",
     "output_type": "stream",
     "text": [
      "Tonight. I call on the Senate to: Pass the Freedom to Vote Act. Pass the John Lewis Voting Rights Act. And while you’re at it, pass the Disclose Act so Americans can know who is funding our elections. \n",
      "\n",
      "Tonight, I’d like to honor someone who has dedicated his life to serve this country: Justice Stephen Breyer—an Army veteran, Constitutional scholar, and retiring Justice of the United States Supreme Court. Justice Breyer, thank you for your service. \n",
      "\n",
      "One of the most serious constitutional responsibilities a President has is nominating someone to serve on the United States Supreme Court. \n",
      "\n",
      "And I did that 4 days ago, when I nominated Circuit Court of Appeals Judge Ketanji Brown Jackson. One of our nation’s top legal minds, who will continue Justice Breyer’s legacy of excellence.\n"
     ]
    }
   ],
   "source": [
    "print(docs[0].page_content)"
   ]
  }
 ],
 "metadata": {
  "kernelspec": {
   "display_name": "Python 3 (ipykernel)",
   "language": "python",
   "name": "python3"
  },
  "language_info": {
   "codemirror_mode": {
    "name": "ipython",
    "version": 3
   },
   "file_extension": ".py",
   "mimetype": "text/x-python",
   "name": "python",
   "nbconvert_exporter": "python",
   "pygments_lexer": "ipython3",
   "version": "3.9.16"
  }
 },
 "nbformat": 4,
 "nbformat_minor": 5
}
